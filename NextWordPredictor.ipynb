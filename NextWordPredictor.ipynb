{
  "nbformat": 4,
  "nbformat_minor": 0,
  "metadata": {
    "colab": {
      "provenance": [],
      "authorship_tag": "ABX9TyMXamVwZscDfuEgMokKa/0O",
      "include_colab_link": true
    },
    "kernelspec": {
      "name": "python3",
      "display_name": "Python 3"
    },
    "language_info": {
      "name": "python"
    }
  },
  "cells": [
    {
      "cell_type": "markdown",
      "metadata": {
        "id": "view-in-github",
        "colab_type": "text"
      },
      "source": [
        "<a href=\"https://colab.research.google.com/github/tinkat17/tinkat17/blob/main/NextWordPredictor.ipynb\" target=\"_parent\"><img src=\"https://colab.research.google.com/assets/colab-badge.svg\" alt=\"Open In Colab\"/></a>"
      ]
    },
    {
      "cell_type": "code",
      "execution_count": null,
      "metadata": {
        "id": "I8eeuNT3CRPA"
      },
      "outputs": [],
      "source": []
    },
    {
      "cell_type": "code",
      "execution_count": 1,
      "metadata": {
        "id": "IrmA3eaj3kF0"
      },
      "outputs": [],
      "source": [
        "faqs = \"\"\"About the Program\n",
        "What is the course fee for  Data Science Mentorship Program (DSMP 2023)\n",
        "The course follows a monthly subscription model where you have to make monthly payments of Rs 799/month.\n",
        "What is the total duration of the course?\n",
        "The total duration of the course is 7 months. So the total course fee becomes 799*7 = Rs 5600(approx.)\n",
        "What is the syllabus of the mentorship program?\n",
        "We will be covering the following modules:\n",
        "Python Fundamentals\n",
        "Python libraries for Data Science\n",
        "Data Analysis\n",
        "SQL for Data Science\n",
        "Maths for Machine Learning\n",
        "ML Algorithms\n",
        "Practical ML\n",
        "MLOPs\n",
        "Case studies\n",
        "You can check the detailed syllabus here - https://learnwith.campusx.in/courses/CampusX-Data-Science-Mentorship-Program-637339afe4b0615a1bbed390\n",
        "Will Deep Learning and NLP be a part of this program?\n",
        "No, NLP and Deep Learning both are not a part of this program’s curriculum.\n",
        "What if I miss a live session? Will I get a recording of the session?\n",
        "Yes all our sessions are recorded, so even if you miss a session you can go back and watch the recording.\n",
        "Where can I find the class schedule?\n",
        "Checkout this google sheet to see month by month time table of the course - https://docs.google.com/spreadsheets/d/16OoTax_A6ORAeCg4emgexhqqPv3noQPYKU7RJ6ArOzk/edit?usp=sharing.\n",
        "What is the time duration of all the live sessions?\n",
        "Roughly, all the sessions last 2 hours.\n",
        "What is the language spoken by the instructor during the sessions?\n",
        "Hinglish\n",
        "How will I be informed about the upcoming class?\n",
        "You will get a mail from our side before every paid session once you become a paid user.\n",
        "Can I do this course if I am from a non-tech background?\n",
        "Yes, absolutely.\n",
        "I am late, can I join the program in the middle?\n",
        "Absolutely, you can join the program anytime.\n",
        "If I join/pay in the middle, will I be able to see all the past lectures?\n",
        "Yes, once you make the payment you will be able to see all the past content in your dashboard.\n",
        "Where do I have to submit the task?\n",
        "You don’t have to submit the task. We will provide you with the solutions, you have to self evaluate the task yourself.\n",
        "Will we do case studies in the program?\n",
        "Yes.\n",
        "Where can we contact you?\n",
        "You can mail us at nitish.campusx@gmail.com\n",
        "Payment/Registration related questions\n",
        "Where do we have to make our payments? Your YouTube channel or website?\n",
        "You have to make all your monthly payments on our website. Here is the link for our website - https://learnwith.campusx.in/\n",
        "Can we pay the entire amount of Rs 5600 all at once?\n",
        "Unfortunately no, the program follows a monthly subscription model.\n",
        "What is the validity of monthly subscription? Suppose if I pay on 15th Jan, then do I have to pay again on 1st Feb or 15th Feb\n",
        "15th Feb. The validity period is 30 days from the day you make the payment. So essentially you can join anytime you don’t have to wait for a month to end.\n",
        "What if I don’t like the course after making the payment. What is the refund policy?\n",
        "You get a 7 days refund period from the day you have made the payment.\n",
        "I am living outside India and I am not able to make the payment on the website, what should I do?\n",
        "You have to contact us by sending a mail at nitish.campusx@gmail.com\n",
        "Post registration queries\n",
        "Till when can I view the paid videos on the website?\n",
        "This one is tricky, so read carefully. You can watch the videos till your subscription is valid. Suppose you have purchased subscription on 21st Jan, you will be able to watch all the past paid sessions in the period of 21st Jan to 20th Feb. But after 21st Feb you will have to purchase the subscription again.\n",
        "But once the course is over and you have paid us Rs 5600(or 7 installments of Rs 799) you will be able to watch the paid sessions till Aug 2024.\n",
        "Why lifetime validity is not provided?\n",
        "Because of the low course fee.\n",
        "Where can I reach out in case of a doubt after the session?\n",
        "You will have to fill a google form provided in your dashboard and our team will contact you for a 1 on 1 doubt clearance session\n",
        "If I join the program late, can I still ask past week doubts?\n",
        "Yes, just select past week doubt in the doubt clearance google form.\n",
        "I am living outside India and I am not able to make the payment on the website, what should I do?\n",
        "You have to contact us by sending a mail at nitish.campusx@gmai.com\n",
        "Certificate and Placement Assistance related queries\n",
        "What is the criteria to get the certificate?\n",
        "There are 2 criterias:\n",
        "You have to pay the entire fee of Rs 5600\n",
        "You have to attempt all the course assessments.\n",
        "I am joining late. How can I pay payment of the earlier months?\n",
        "You will get a link to pay fee of earlier months in your dashboard once you pay for the current month.\n",
        "I have read that Placement assistance is a part of this program. What comes under Placement assistance?\n",
        "This is to clarify that Placement assistance does not mean Placement guarantee. So we dont guarantee you any jobs or for that matter even interview calls. So if you are planning to join this course just for placements, I am afraid you will be disappointed. Here is what comes under placement assistance\n",
        "Portfolio Building sessions\n",
        "Soft skill sessions\n",
        "Sessions with industry mentors\n",
        "Discussion on Job hunting strategies\n",
        "\"\"\""
      ]
    },
    {
      "cell_type": "code",
      "source": [
        "import tensorflow as tf\n",
        "from tensorflow.keras.preprocessing.text import Tokenizer"
      ],
      "metadata": {
        "id": "jf5ai-mWEKbx"
      },
      "execution_count": 2,
      "outputs": []
    },
    {
      "cell_type": "code",
      "source": [
        "tokenizer = Tokenizer()\n"
      ],
      "metadata": {
        "id": "dw0xk9gGEmCF"
      },
      "execution_count": 5,
      "outputs": []
    },
    {
      "cell_type": "code",
      "source": [
        "tokenizer.fit_on_texts([faqs])"
      ],
      "metadata": {
        "id": "ecQmQCtTEqO-"
      },
      "execution_count": 6,
      "outputs": []
    },
    {
      "cell_type": "code",
      "source": [
        "tokenizer.word_index"
      ],
      "metadata": {
        "colab": {
          "base_uri": "https://localhost:8080/"
        },
        "id": "ZBcsR6w_E3Sd",
        "outputId": "f20a02d6-b019-42d3-d9ea-be877ad31348"
      },
      "execution_count": 7,
      "outputs": [
        {
          "output_type": "execute_result",
          "data": {
            "text/plain": [
              "{'the': 1,\n",
              " 'you': 2,\n",
              " 'i': 3,\n",
              " 'to': 4,\n",
              " 'a': 5,\n",
              " 'of': 6,\n",
              " 'is': 7,\n",
              " 'have': 8,\n",
              " 'will': 9,\n",
              " 'can': 10,\n",
              " 'what': 11,\n",
              " 'course': 12,\n",
              " 'program': 13,\n",
              " 'in': 14,\n",
              " 'for': 15,\n",
              " 'all': 16,\n",
              " 'sessions': 17,\n",
              " 'on': 18,\n",
              " 'be': 19,\n",
              " 'and': 20,\n",
              " 'this': 21,\n",
              " 'if': 22,\n",
              " 'am': 23,\n",
              " 'pay': 24,\n",
              " 'payment': 25,\n",
              " 'make': 26,\n",
              " 'we': 27,\n",
              " 'do': 28,\n",
              " 'subscription': 29,\n",
              " 'where': 30,\n",
              " 'rs': 31,\n",
              " 'so': 32,\n",
              " 'campusx': 33,\n",
              " 'session': 34,\n",
              " 'our': 35,\n",
              " 'paid': 36,\n",
              " 'join': 37,\n",
              " 'able': 38,\n",
              " 'your': 39,\n",
              " 'website': 40,\n",
              " 'placement': 41,\n",
              " 'fee': 42,\n",
              " 'data': 43,\n",
              " 'monthly': 44,\n",
              " 'month': 45,\n",
              " 'not': 46,\n",
              " 'get': 47,\n",
              " 'yes': 48,\n",
              " 'once': 49,\n",
              " 'past': 50,\n",
              " 'feb': 51,\n",
              " 'assistance': 52,\n",
              " 'science': 53,\n",
              " '7': 54,\n",
              " '5600': 55,\n",
              " 'are': 56,\n",
              " 'watch': 57,\n",
              " 'google': 58,\n",
              " 'by': 59,\n",
              " 'com': 60,\n",
              " 'mail': 61,\n",
              " 'from': 62,\n",
              " 'contact': 63,\n",
              " 'us': 64,\n",
              " 'at': 65,\n",
              " 'or': 66,\n",
              " 'doubt': 67,\n",
              " 'mentorship': 68,\n",
              " 'payments': 69,\n",
              " '799': 70,\n",
              " 'total': 71,\n",
              " 'duration': 72,\n",
              " 'months': 73,\n",
              " 'learning': 74,\n",
              " 'case': 75,\n",
              " 'here': 76,\n",
              " 'https': 77,\n",
              " 'part': 78,\n",
              " 'see': 79,\n",
              " 'late': 80,\n",
              " 'dashboard': 81,\n",
              " 'task': 82,\n",
              " 'don’t': 83,\n",
              " 'nitish': 84,\n",
              " 'validity': 85,\n",
              " '15th': 86,\n",
              " 'jan': 87,\n",
              " 'period': 88,\n",
              " 'after': 89,\n",
              " 'till': 90,\n",
              " '21st': 91,\n",
              " 'that': 92,\n",
              " 'about': 93,\n",
              " 'follows': 94,\n",
              " 'model': 95,\n",
              " 'syllabus': 96,\n",
              " 'python': 97,\n",
              " 'ml': 98,\n",
              " 'studies': 99,\n",
              " 'learnwith': 100,\n",
              " 'deep': 101,\n",
              " 'nlp': 102,\n",
              " 'no': 103,\n",
              " 'miss': 104,\n",
              " 'live': 105,\n",
              " 'recording': 106,\n",
              " 'even': 107,\n",
              " 'class': 108,\n",
              " 'time': 109,\n",
              " '2': 110,\n",
              " 'how': 111,\n",
              " 'absolutely': 112,\n",
              " 'middle': 113,\n",
              " 'anytime': 114,\n",
              " 'submit': 115,\n",
              " 'with': 116,\n",
              " 'gmail': 117,\n",
              " 'registration': 118,\n",
              " 'related': 119,\n",
              " 'link': 120,\n",
              " 'entire': 121,\n",
              " 'suppose': 122,\n",
              " 'again': 123,\n",
              " 'days': 124,\n",
              " 'day': 125,\n",
              " 'refund': 126,\n",
              " 'living': 127,\n",
              " 'outside': 128,\n",
              " 'india': 129,\n",
              " 'should': 130,\n",
              " 'sending': 131,\n",
              " 'queries': 132,\n",
              " 'videos': 133,\n",
              " 'read': 134,\n",
              " 'but': 135,\n",
              " 'provided': 136,\n",
              " 'form': 137,\n",
              " '1': 138,\n",
              " 'clearance': 139,\n",
              " 'week': 140,\n",
              " 'just': 141,\n",
              " 'certificate': 142,\n",
              " 'earlier': 143,\n",
              " 'comes': 144,\n",
              " 'under': 145,\n",
              " 'guarantee': 146,\n",
              " 'dsmp': 147,\n",
              " '2023': 148,\n",
              " 'becomes': 149,\n",
              " 'approx': 150,\n",
              " 'covering': 151,\n",
              " 'following': 152,\n",
              " 'modules': 153,\n",
              " 'fundamentals': 154,\n",
              " 'libraries': 155,\n",
              " 'analysis': 156,\n",
              " 'sql': 157,\n",
              " 'maths': 158,\n",
              " 'machine': 159,\n",
              " 'algorithms': 160,\n",
              " 'practical': 161,\n",
              " 'mlops': 162,\n",
              " 'check': 163,\n",
              " 'detailed': 164,\n",
              " 'courses': 165,\n",
              " '637339afe4b0615a1bbed390': 166,\n",
              " 'both': 167,\n",
              " 'program’s': 168,\n",
              " 'curriculum': 169,\n",
              " 'recorded': 170,\n",
              " 'go': 171,\n",
              " 'back': 172,\n",
              " 'find': 173,\n",
              " 'schedule': 174,\n",
              " 'checkout': 175,\n",
              " 'sheet': 176,\n",
              " 'table': 177,\n",
              " 'docs': 178,\n",
              " 'spreadsheets': 179,\n",
              " 'd': 180,\n",
              " '16ootax': 181,\n",
              " 'a6oraecg4emgexhqqpv3noqpyku7rj6arozk': 182,\n",
              " 'edit': 183,\n",
              " 'usp': 184,\n",
              " 'sharing': 185,\n",
              " 'roughly': 186,\n",
              " 'last': 187,\n",
              " 'hours': 188,\n",
              " 'language': 189,\n",
              " 'spoken': 190,\n",
              " 'instructor': 191,\n",
              " 'during': 192,\n",
              " 'hinglish': 193,\n",
              " 'informed': 194,\n",
              " 'upcoming': 195,\n",
              " 'side': 196,\n",
              " 'before': 197,\n",
              " 'every': 198,\n",
              " 'become': 199,\n",
              " 'user': 200,\n",
              " 'non': 201,\n",
              " 'tech': 202,\n",
              " 'background': 203,\n",
              " 'lectures': 204,\n",
              " 'content': 205,\n",
              " 'provide': 206,\n",
              " 'solutions': 207,\n",
              " 'self': 208,\n",
              " 'evaluate': 209,\n",
              " 'yourself': 210,\n",
              " 'questions': 211,\n",
              " 'youtube': 212,\n",
              " 'channel': 213,\n",
              " 'amount': 214,\n",
              " 'unfortunately': 215,\n",
              " 'then': 216,\n",
              " '1st': 217,\n",
              " '30': 218,\n",
              " 'essentially': 219,\n",
              " 'wait': 220,\n",
              " 'end': 221,\n",
              " 'like': 222,\n",
              " 'making': 223,\n",
              " 'policy': 224,\n",
              " 'made': 225,\n",
              " 'post': 226,\n",
              " 'when': 227,\n",
              " 'view': 228,\n",
              " 'one': 229,\n",
              " 'tricky': 230,\n",
              " 'carefully': 231,\n",
              " 'valid': 232,\n",
              " 'purchased': 233,\n",
              " '20th': 234,\n",
              " 'purchase': 235,\n",
              " 'over': 236,\n",
              " 'installments': 237,\n",
              " 'aug': 238,\n",
              " '2024': 239,\n",
              " 'why': 240,\n",
              " 'lifetime': 241,\n",
              " 'because': 242,\n",
              " 'low': 243,\n",
              " 'reach': 244,\n",
              " 'out': 245,\n",
              " 'fill': 246,\n",
              " 'team': 247,\n",
              " 'still': 248,\n",
              " 'ask': 249,\n",
              " 'doubts': 250,\n",
              " 'select': 251,\n",
              " 'gmai': 252,\n",
              " 'criteria': 253,\n",
              " 'there': 254,\n",
              " 'criterias': 255,\n",
              " 'attempt': 256,\n",
              " 'assessments': 257,\n",
              " 'joining': 258,\n",
              " 'current': 259,\n",
              " 'clarify': 260,\n",
              " 'does': 261,\n",
              " 'mean': 262,\n",
              " 'dont': 263,\n",
              " 'any': 264,\n",
              " 'jobs': 265,\n",
              " 'matter': 266,\n",
              " 'interview': 267,\n",
              " 'calls': 268,\n",
              " 'planning': 269,\n",
              " 'placements': 270,\n",
              " 'afraid': 271,\n",
              " 'disappointed': 272,\n",
              " 'portfolio': 273,\n",
              " 'building': 274,\n",
              " 'soft': 275,\n",
              " 'skill': 276,\n",
              " 'industry': 277,\n",
              " 'mentors': 278,\n",
              " 'discussion': 279,\n",
              " 'job': 280,\n",
              " 'hunting': 281,\n",
              " 'strategies': 282}"
            ]
          },
          "metadata": {},
          "execution_count": 7
        }
      ]
    },
    {
      "cell_type": "code",
      "source": [
        "input_sequences = []\n",
        "for sentence in faqs.split('\\n'):\n",
        "  tokenized_sentence = tokenizer.texts_to_sequences([sentence])[0]\n",
        "\n",
        "  for i in range(1,len(tokenized_sentence)):\n",
        "     input_sequences.append(tokenized_sentence[:i+1])"
      ],
      "metadata": {
        "id": "HzpyCd5lE7Wb"
      },
      "execution_count": 12,
      "outputs": []
    },
    {
      "cell_type": "code",
      "source": [
        "max_len = max([len(x) for x in input_sequences])"
      ],
      "metadata": {
        "id": "i30y0tuaHAws"
      },
      "execution_count": 16,
      "outputs": []
    },
    {
      "cell_type": "code",
      "source": [
        "from tensorflow.keras.preprocessing.sequence import pad_sequences\n",
        "padded_input_sequences = pad_sequences(input_sequences, maxlen = max_len, padding='pre')"
      ],
      "metadata": {
        "id": "XhPzI9HpHjCs"
      },
      "execution_count": 18,
      "outputs": []
    },
    {
      "cell_type": "code",
      "source": [
        "X = padded_input_sequences[:,:-1]\n"
      ],
      "metadata": {
        "id": "zwO_XcT6H45y"
      },
      "execution_count": 21,
      "outputs": []
    },
    {
      "cell_type": "code",
      "source": [
        "y = padded_input_sequences[:,-1]"
      ],
      "metadata": {
        "id": "3u_MEuMYITgx"
      },
      "execution_count": 22,
      "outputs": []
    },
    {
      "cell_type": "code",
      "source": [
        "  X.shape, y.shape"
      ],
      "metadata": {
        "colab": {
          "base_uri": "https://localhost:8080/"
        },
        "id": "wMh-l3hdJGME",
        "outputId": "f6d16d11-73da-4aa8-d6db-6d5065c04a02"
      },
      "execution_count": 23,
      "outputs": [
        {
          "output_type": "execute_result",
          "data": {
            "text/plain": [
              "((863, 56), (863,))"
            ]
          },
          "metadata": {},
          "execution_count": 23
        }
      ]
    },
    {
      "cell_type": "code",
      "source": [
        "from tensorflow.keras.utils import to_categorical\n",
        "y = to_categorical(y,num_classes=283)"
      ],
      "metadata": {
        "id": "KSJ5QGA2KKbG"
      },
      "execution_count": 25,
      "outputs": []
    },
    {
      "cell_type": "code",
      "source": [
        "y.shape"
      ],
      "metadata": {
        "colab": {
          "base_uri": "https://localhost:8080/"
        },
        "id": "RpnNI9KiKj8f",
        "outputId": "ba78e373-f67f-4c69-a05d-7a15a063b638"
      },
      "execution_count": 26,
      "outputs": [
        {
          "output_type": "execute_result",
          "data": {
            "text/plain": [
              "(863, 283)"
            ]
          },
          "metadata": {},
          "execution_count": 26
        }
      ]
    },
    {
      "cell_type": "code",
      "source": [
        "from tensorflow.keras.models import Sequential\n",
        "from tensorflow.keras.layers import Embedding, LSTM, Dense"
      ],
      "metadata": {
        "id": "hBpcOXkaKyHi"
      },
      "execution_count": 27,
      "outputs": []
    },
    {
      "cell_type": "code",
      "source": [
        "model = Sequential()\n",
        "model.add(Embedding(283, 100, input_length=56))\n",
        "model.add(LSTM(150))\n",
        "model.add(Dense(283, activation = 'softmax'))"
      ],
      "metadata": {
        "id": "EC5-oN7lLXeJ"
      },
      "execution_count": 28,
      "outputs": []
    },
    {
      "cell_type": "code",
      "source": [
        "model.compile(loss='CategoricalCrossentropy', optimizer='adam',metrics=['accuracy'])"
      ],
      "metadata": {
        "id": "U2vBLZA4LwyA"
      },
      "execution_count": 32,
      "outputs": []
    },
    {
      "cell_type": "code",
      "source": [
        "model.summary()"
      ],
      "metadata": {
        "colab": {
          "base_uri": "https://localhost:8080/"
        },
        "id": "WTVhKY5dMCVu",
        "outputId": "d0981734-8c31-4f02-f88f-013e8d6d7609"
      },
      "execution_count": 33,
      "outputs": [
        {
          "output_type": "stream",
          "name": "stdout",
          "text": [
            "Model: \"sequential\"\n",
            "_________________________________________________________________\n",
            " Layer (type)                Output Shape              Param #   \n",
            "=================================================================\n",
            " embedding (Embedding)       (None, 56, 100)           28300     \n",
            "                                                                 \n",
            " lstm (LSTM)                 (None, 150)               150600    \n",
            "                                                                 \n",
            " dense (Dense)               (None, 283)               42733     \n",
            "                                                                 \n",
            "=================================================================\n",
            "Total params: 221633 (865.75 KB)\n",
            "Trainable params: 221633 (865.75 KB)\n",
            "Non-trainable params: 0 (0.00 Byte)\n",
            "_________________________________________________________________\n"
          ]
        }
      ]
    },
    {
      "cell_type": "code",
      "source": [
        "model.fit(X,y,epochs=100)"
      ],
      "metadata": {
        "colab": {
          "base_uri": "https://localhost:8080/"
        },
        "id": "U6esV--7MEKL",
        "outputId": "25ac18f7-6d7e-4a0b-9023-ba9eb8fb70a0"
      },
      "execution_count": 34,
      "outputs": [
        {
          "output_type": "stream",
          "name": "stdout",
          "text": [
            "Epoch 1/100\n",
            "27/27 [==============================] - 5s 102ms/step - loss: 5.4486 - accuracy: 0.0406\n",
            "Epoch 2/100\n",
            "27/27 [==============================] - 5s 174ms/step - loss: 5.0960 - accuracy: 0.0776\n",
            "Epoch 3/100\n",
            "27/27 [==============================] - 3s 101ms/step - loss: 5.0235 - accuracy: 0.0776\n",
            "Epoch 4/100\n",
            "27/27 [==============================] - 3s 98ms/step - loss: 4.9847 - accuracy: 0.0776\n",
            "Epoch 5/100\n",
            "27/27 [==============================] - 3s 97ms/step - loss: 4.9402 - accuracy: 0.0776\n",
            "Epoch 6/100\n",
            "27/27 [==============================] - 3s 130ms/step - loss: 4.8488 - accuracy: 0.0811\n",
            "Epoch 7/100\n",
            "27/27 [==============================] - 4s 139ms/step - loss: 4.6939 - accuracy: 0.1078\n",
            "Epoch 8/100\n",
            "27/27 [==============================] - 3s 107ms/step - loss: 4.4927 - accuracy: 0.1309\n",
            "Epoch 9/100\n",
            "27/27 [==============================] - 3s 101ms/step - loss: 4.2619 - accuracy: 0.1669\n",
            "Epoch 10/100\n",
            "27/27 [==============================] - 3s 101ms/step - loss: 4.0224 - accuracy: 0.1924\n",
            "Epoch 11/100\n",
            "27/27 [==============================] - 5s 177ms/step - loss: 3.7891 - accuracy: 0.2364\n",
            "Epoch 12/100\n",
            "27/27 [==============================] - 3s 104ms/step - loss: 3.5681 - accuracy: 0.2572\n",
            "Epoch 13/100\n",
            "27/27 [==============================] - 5s 181ms/step - loss: 3.3338 - accuracy: 0.2932\n",
            "Epoch 14/100\n",
            "27/27 [==============================] - 4s 142ms/step - loss: 3.1163 - accuracy: 0.3511\n",
            "Epoch 15/100\n",
            "27/27 [==============================] - 4s 127ms/step - loss: 2.9101 - accuracy: 0.3789\n",
            "Epoch 16/100\n",
            "27/27 [==============================] - 3s 100ms/step - loss: 2.7173 - accuracy: 0.4148\n",
            "Epoch 17/100\n",
            "27/27 [==============================] - 3s 104ms/step - loss: 2.5355 - accuracy: 0.4426\n",
            "Epoch 18/100\n",
            "27/27 [==============================] - 3s 105ms/step - loss: 2.3595 - accuracy: 0.5041\n",
            "Epoch 19/100\n",
            "27/27 [==============================] - 4s 165ms/step - loss: 2.1967 - accuracy: 0.5238\n",
            "Epoch 20/100\n",
            "27/27 [==============================] - 3s 101ms/step - loss: 2.0458 - accuracy: 0.5643\n",
            "Epoch 21/100\n",
            "27/27 [==============================] - 3s 99ms/step - loss: 1.9092 - accuracy: 0.5840\n",
            "Epoch 22/100\n",
            "27/27 [==============================] - 3s 101ms/step - loss: 1.7721 - accuracy: 0.6269\n",
            "Epoch 23/100\n",
            "27/27 [==============================] - 4s 161ms/step - loss: 1.6475 - accuracy: 0.6535\n",
            "Epoch 24/100\n",
            "27/27 [==============================] - 3s 112ms/step - loss: 1.5375 - accuracy: 0.6802\n",
            "Epoch 25/100\n",
            "27/27 [==============================] - 3s 100ms/step - loss: 1.4337 - accuracy: 0.7092\n",
            "Epoch 26/100\n",
            "27/27 [==============================] - 3s 101ms/step - loss: 1.3365 - accuracy: 0.7381\n",
            "Epoch 27/100\n",
            "27/27 [==============================] - 3s 118ms/step - loss: 1.2378 - accuracy: 0.7694\n",
            "Epoch 28/100\n",
            "27/27 [==============================] - 4s 154ms/step - loss: 1.1575 - accuracy: 0.7961\n",
            "Epoch 29/100\n",
            "27/27 [==============================] - 3s 98ms/step - loss: 1.0847 - accuracy: 0.8123\n",
            "Epoch 30/100\n",
            "27/27 [==============================] - 3s 99ms/step - loss: 1.0097 - accuracy: 0.8389\n",
            "Epoch 31/100\n",
            "27/27 [==============================] - 3s 102ms/step - loss: 0.9449 - accuracy: 0.8552\n",
            "Epoch 32/100\n",
            "27/27 [==============================] - 4s 168ms/step - loss: 0.8778 - accuracy: 0.8702\n",
            "Epoch 33/100\n",
            "27/27 [==============================] - 3s 101ms/step - loss: 0.8215 - accuracy: 0.8818\n",
            "Epoch 34/100\n",
            "27/27 [==============================] - 3s 101ms/step - loss: 0.7694 - accuracy: 0.8934\n",
            "Epoch 35/100\n",
            "27/27 [==============================] - 3s 99ms/step - loss: 0.7205 - accuracy: 0.8980\n",
            "Epoch 36/100\n",
            "27/27 [==============================] - 3s 129ms/step - loss: 0.6782 - accuracy: 0.8980\n",
            "Epoch 37/100\n",
            "27/27 [==============================] - 4s 143ms/step - loss: 0.6348 - accuracy: 0.9143\n",
            "Epoch 38/100\n",
            "27/27 [==============================] - 3s 102ms/step - loss: 0.5994 - accuracy: 0.9189\n",
            "Epoch 39/100\n",
            "27/27 [==============================] - 3s 99ms/step - loss: 0.5672 - accuracy: 0.9212\n",
            "Epoch 40/100\n",
            "27/27 [==============================] - 3s 100ms/step - loss: 0.5326 - accuracy: 0.9247\n",
            "Epoch 41/100\n",
            "27/27 [==============================] - 5s 175ms/step - loss: 0.5014 - accuracy: 0.9270\n",
            "Epoch 42/100\n",
            "27/27 [==============================] - 3s 98ms/step - loss: 0.4775 - accuracy: 0.9316\n",
            "Epoch 43/100\n",
            "27/27 [==============================] - 3s 102ms/step - loss: 0.4514 - accuracy: 0.9351\n",
            "Epoch 44/100\n",
            "27/27 [==============================] - 3s 100ms/step - loss: 0.4307 - accuracy: 0.9316\n",
            "Epoch 45/100\n",
            "27/27 [==============================] - 4s 141ms/step - loss: 0.4093 - accuracy: 0.9374\n",
            "Epoch 46/100\n",
            "27/27 [==============================] - 3s 127ms/step - loss: 0.3925 - accuracy: 0.9363\n",
            "Epoch 47/100\n",
            "27/27 [==============================] - 3s 99ms/step - loss: 0.3758 - accuracy: 0.9374\n",
            "Epoch 48/100\n",
            "27/27 [==============================] - 3s 100ms/step - loss: 0.3583 - accuracy: 0.9374\n",
            "Epoch 49/100\n",
            "27/27 [==============================] - 3s 101ms/step - loss: 0.3431 - accuracy: 0.9386\n",
            "Epoch 50/100\n",
            "27/27 [==============================] - 5s 169ms/step - loss: 0.3309 - accuracy: 0.9374\n",
            "Epoch 51/100\n",
            "27/27 [==============================] - 3s 100ms/step - loss: 0.3179 - accuracy: 0.9455\n",
            "Epoch 52/100\n",
            "27/27 [==============================] - 3s 99ms/step - loss: 0.3040 - accuracy: 0.9421\n",
            "Epoch 53/100\n",
            "27/27 [==============================] - 3s 106ms/step - loss: 0.2947 - accuracy: 0.9444\n",
            "Epoch 54/100\n",
            "27/27 [==============================] - 4s 158ms/step - loss: 0.2832 - accuracy: 0.9409\n",
            "Epoch 55/100\n",
            "27/27 [==============================] - 3s 112ms/step - loss: 0.2737 - accuracy: 0.9432\n",
            "Epoch 56/100\n",
            "27/27 [==============================] - 3s 100ms/step - loss: 0.2649 - accuracy: 0.9409\n",
            "Epoch 57/100\n",
            "27/27 [==============================] - 3s 98ms/step - loss: 0.2578 - accuracy: 0.9467\n",
            "Epoch 58/100\n",
            "27/27 [==============================] - 3s 109ms/step - loss: 0.2518 - accuracy: 0.9397\n",
            "Epoch 59/100\n",
            "27/27 [==============================] - 4s 162ms/step - loss: 0.2419 - accuracy: 0.9455\n",
            "Epoch 60/100\n",
            "27/27 [==============================] - 3s 99ms/step - loss: 0.2367 - accuracy: 0.9444\n",
            "Epoch 61/100\n",
            "27/27 [==============================] - 3s 99ms/step - loss: 0.2299 - accuracy: 0.9479\n",
            "Epoch 62/100\n",
            "27/27 [==============================] - 3s 102ms/step - loss: 0.2231 - accuracy: 0.9490\n",
            "Epoch 63/100\n",
            "27/27 [==============================] - 5s 177ms/step - loss: 0.2190 - accuracy: 0.9421\n",
            "Epoch 64/100\n",
            "27/27 [==============================] - 3s 101ms/step - loss: 0.2138 - accuracy: 0.9467\n",
            "Epoch 65/100\n",
            "27/27 [==============================] - 3s 98ms/step - loss: 0.2092 - accuracy: 0.9467\n",
            "Epoch 66/100\n",
            "27/27 [==============================] - 3s 100ms/step - loss: 0.2042 - accuracy: 0.9444\n",
            "Epoch 67/100\n",
            "27/27 [==============================] - 3s 123ms/step - loss: 0.2013 - accuracy: 0.9467\n",
            "Epoch 68/100\n",
            "27/27 [==============================] - 4s 144ms/step - loss: 0.1966 - accuracy: 0.9455\n",
            "Epoch 69/100\n",
            "27/27 [==============================] - 3s 99ms/step - loss: 0.1943 - accuracy: 0.9467\n",
            "Epoch 70/100\n",
            "27/27 [==============================] - 3s 98ms/step - loss: 0.1893 - accuracy: 0.9444\n",
            "Epoch 71/100\n",
            "27/27 [==============================] - 3s 99ms/step - loss: 0.1848 - accuracy: 0.9444\n",
            "Epoch 72/100\n",
            "27/27 [==============================] - 5s 172ms/step - loss: 0.1812 - accuracy: 0.9444\n",
            "Epoch 73/100\n",
            "27/27 [==============================] - 3s 99ms/step - loss: 0.1813 - accuracy: 0.9409\n",
            "Epoch 74/100\n",
            "27/27 [==============================] - 3s 100ms/step - loss: 0.1759 - accuracy: 0.9502\n",
            "Epoch 75/100\n",
            "27/27 [==============================] - 3s 98ms/step - loss: 0.1728 - accuracy: 0.9444\n",
            "Epoch 76/100\n",
            "27/27 [==============================] - 3s 124ms/step - loss: 0.1720 - accuracy: 0.9444\n",
            "Epoch 77/100\n",
            "27/27 [==============================] - 4s 146ms/step - loss: 0.1673 - accuracy: 0.9455\n",
            "Epoch 78/100\n",
            "27/27 [==============================] - 3s 98ms/step - loss: 0.1661 - accuracy: 0.9421\n",
            "Epoch 79/100\n",
            "27/27 [==============================] - 3s 99ms/step - loss: 0.1648 - accuracy: 0.9513\n",
            "Epoch 80/100\n",
            "27/27 [==============================] - 3s 98ms/step - loss: 0.1675 - accuracy: 0.9386\n",
            "Epoch 81/100\n",
            "27/27 [==============================] - 4s 168ms/step - loss: 0.1619 - accuracy: 0.9397\n",
            "Epoch 82/100\n",
            "27/27 [==============================] - 3s 97ms/step - loss: 0.1559 - accuracy: 0.9444\n",
            "Epoch 83/100\n",
            "27/27 [==============================] - 3s 96ms/step - loss: 0.1575 - accuracy: 0.9432\n",
            "Epoch 84/100\n",
            "27/27 [==============================] - 3s 98ms/step - loss: 0.1562 - accuracy: 0.9397\n",
            "Epoch 85/100\n",
            "27/27 [==============================] - 3s 115ms/step - loss: 0.1526 - accuracy: 0.9444\n",
            "Epoch 86/100\n",
            "27/27 [==============================] - 4s 142ms/step - loss: 0.1519 - accuracy: 0.9490\n",
            "Epoch 87/100\n",
            "27/27 [==============================] - 3s 98ms/step - loss: 0.1499 - accuracy: 0.9432\n",
            "Epoch 88/100\n",
            "27/27 [==============================] - 3s 99ms/step - loss: 0.1485 - accuracy: 0.9397\n",
            "Epoch 89/100\n",
            "27/27 [==============================] - 3s 99ms/step - loss: 0.1464 - accuracy: 0.9444\n",
            "Epoch 90/100\n",
            "27/27 [==============================] - 5s 172ms/step - loss: 0.1456 - accuracy: 0.9409\n",
            "Epoch 91/100\n",
            "27/27 [==============================] - 3s 102ms/step - loss: 0.1466 - accuracy: 0.9455\n",
            "Epoch 92/100\n",
            "27/27 [==============================] - 3s 101ms/step - loss: 0.1419 - accuracy: 0.9421\n",
            "Epoch 93/100\n",
            "27/27 [==============================] - 3s 100ms/step - loss: 0.1410 - accuracy: 0.9467\n",
            "Epoch 94/100\n",
            "27/27 [==============================] - 4s 131ms/step - loss: 0.1406 - accuracy: 0.9455\n",
            "Epoch 95/100\n",
            "27/27 [==============================] - 4s 140ms/step - loss: 0.1420 - accuracy: 0.9432\n",
            "Epoch 96/100\n",
            "27/27 [==============================] - 3s 99ms/step - loss: 0.1390 - accuracy: 0.9421\n",
            "Epoch 97/100\n",
            "27/27 [==============================] - 3s 101ms/step - loss: 0.1361 - accuracy: 0.9455\n",
            "Epoch 98/100\n",
            "27/27 [==============================] - 3s 98ms/step - loss: 0.1361 - accuracy: 0.9409\n",
            "Epoch 99/100\n",
            "27/27 [==============================] - 5s 177ms/step - loss: 0.1371 - accuracy: 0.9467\n",
            "Epoch 100/100\n",
            "27/27 [==============================] - 3s 100ms/step - loss: 0.1379 - accuracy: 0.9421\n"
          ]
        },
        {
          "output_type": "execute_result",
          "data": {
            "text/plain": [
              "<keras.src.callbacks.History at 0x7d96015c4d30>"
            ]
          },
          "metadata": {},
          "execution_count": 34
        }
      ]
    },
    {
      "cell_type": "code",
      "source": [
        "import time\n",
        "text = 'nlp and deep learning are'\n",
        "\n",
        "for i in range(10):\n",
        "  token_text = tokenizer.texts_to_sequences([text])[0]\n",
        "  padded_token_text = pad_sequences([token_text],maxlen=56,padding='pre')\n",
        "  pos = np.argmax(model.predict(padded_token_text))\n",
        "\n",
        "  for word,index in tokenizer.word_index.items():\n",
        "    if index == pos:\n",
        "      text = text+\" \"+ word\n",
        "      print(text)\n",
        "      time.sleep(2)"
      ],
      "metadata": {
        "colab": {
          "base_uri": "https://localhost:8080/"
        },
        "id": "1tqzblFUOEgr",
        "outputId": "b2039fb1-68c8-45db-b9f6-366d75b64f03"
      },
      "execution_count": 48,
      "outputs": [
        {
          "output_type": "stream",
          "name": "stdout",
          "text": [
            "1/1 [==============================] - 0s 33ms/step\n",
            "nlp and deep learning are not\n",
            "1/1 [==============================] - 0s 35ms/step\n",
            "nlp and deep learning are not a\n",
            "1/1 [==============================] - 0s 29ms/step\n",
            "nlp and deep learning are not a part\n",
            "1/1 [==============================] - 0s 29ms/step\n",
            "nlp and deep learning are not a part of\n",
            "1/1 [==============================] - 0s 50ms/step\n",
            "nlp and deep learning are not a part of this\n",
            "1/1 [==============================] - 0s 32ms/step\n",
            "nlp and deep learning are not a part of this program\n",
            "1/1 [==============================] - 0s 34ms/step\n",
            "nlp and deep learning are not a part of this program what\n",
            "1/1 [==============================] - 0s 39ms/step\n",
            "nlp and deep learning are not a part of this program what comes\n",
            "1/1 [==============================] - 0s 29ms/step\n",
            "nlp and deep learning are not a part of this program what comes under\n",
            "1/1 [==============================] - 0s 29ms/step\n",
            "nlp and deep learning are not a part of this program what comes under placement\n"
          ]
        }
      ]
    },
    {
      "cell_type": "code",
      "source": [
        "import numpy as np"
      ],
      "metadata": {
        "id": "OmmUBscyQYjl"
      },
      "execution_count": 40,
      "outputs": []
    },
    {
      "cell_type": "code",
      "source": [],
      "metadata": {
        "id": "rT5wt6OJQ2sJ"
      },
      "execution_count": null,
      "outputs": []
    }
  ]
}